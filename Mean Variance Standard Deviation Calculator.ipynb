{
 "cells": [
  {
   "cell_type": "code",
   "execution_count": 4,
   "id": "13ef295c",
   "metadata": {},
   "outputs": [],
   "source": [
    "# Import NumPy\n",
    "import numpy as np\n",
    "\n",
    "def calculate(list_input):\n",
    "    # Check if the input list has 9 elements\n",
    "    if len(list_input) != 9:\n",
    "        raise ValueError(\"List must contain nine numbers.\")\n",
    "    \n",
    "    # Convert the input list to a 3x3 NumPy array\n",
    "    matrix = np.array(list_input).reshape(3, 3)\n",
    "    \n",
    "    # Calculate statistics\n",
    "    calculations = {\n",
    "        'mean': [\n",
    "            list(matrix.mean(axis=0)),\n",
    "            list(matrix.mean(axis=1)),\n",
    "            matrix.mean()\n",
    "        ],\n",
    "        'variance': [\n",
    "            list(matrix.var(axis=0)),\n",
    "            list(matrix.var(axis=1)),\n",
    "            matrix.var()\n",
    "        ],\n",
    "        'standard deviation': [\n",
    "            list(matrix.std(axis=0)),\n",
    "            list(matrix.std(axis=1)),\n",
    "            matrix.std()\n",
    "        ],\n",
    "        'max': [\n",
    "            list(matrix.max(axis=0)),\n",
    "            list(matrix.max(axis=1)),\n",
    "            matrix.max()\n",
    "        ],\n",
    "        'min': [\n",
    "            list(matrix.min(axis=0)),\n",
    "            list(matrix.min(axis=1)),\n",
    "            matrix.min()\n",
    "        ],\n",
    "        'sum': [\n",
    "            list(matrix.sum(axis=0)),\n",
    "            list(matrix.sum(axis=1)),\n",
    "            matrix.sum()\n",
    "        ]\n",
    "    }\n",
    "    \n",
    "    return calculations\n"
   ]
  },
  {
   "cell_type": "code",
   "execution_count": 5,
   "id": "8f250fc6",
   "metadata": {},
   "outputs": [
    {
     "data": {
      "text/plain": [
       "{'mean': [[3.0, 4.0, 5.0], [1.0, 4.0, 7.0], 4.0],\n",
       " 'variance': [[6.0, 6.0, 6.0],\n",
       "  [0.6666666666666666, 0.6666666666666666, 0.6666666666666666],\n",
       "  6.666666666666667],\n",
       " 'standard deviation': [[2.449489742783178,\n",
       "   2.449489742783178,\n",
       "   2.449489742783178],\n",
       "  [0.816496580927726, 0.816496580927726, 0.816496580927726],\n",
       "  2.581988897471611],\n",
       " 'max': [[6, 7, 8], [2, 5, 8], 8],\n",
       " 'min': [[0, 1, 2], [0, 3, 6], 0],\n",
       " 'sum': [[9, 12, 15], [3, 12, 21], 36]}"
      ]
     },
     "execution_count": 5,
     "metadata": {},
     "output_type": "execute_result"
    }
   ],
   "source": [
    "calculate([0,1,2,3,4,5,6,7,8])"
   ]
  },
  {
   "cell_type": "code",
   "execution_count": 1,
   "id": "9ee81f3c",
   "metadata": {},
   "outputs": [],
   "source": []
  },
  {
   "cell_type": "code",
   "execution_count": 2,
   "id": "2beea325",
   "metadata": {},
   "outputs": [],
   "source": []
  },
  {
   "cell_type": "code",
   "execution_count": null,
   "id": "67fd1f16",
   "metadata": {
    "scrolled": true
   },
   "outputs": [],
   "source": []
  },
  {
   "cell_type": "code",
   "execution_count": null,
   "id": "5947407a",
   "metadata": {},
   "outputs": [],
   "source": []
  }
 ],
 "metadata": {
  "kernelspec": {
   "display_name": "Python 3 (ipykernel)",
   "language": "python",
   "name": "python3"
  },
  "language_info": {
   "codemirror_mode": {
    "name": "ipython",
    "version": 3
   },
   "file_extension": ".py",
   "mimetype": "text/x-python",
   "name": "python",
   "nbconvert_exporter": "python",
   "pygments_lexer": "ipython3",
   "version": "3.11.3"
  }
 },
 "nbformat": 4,
 "nbformat_minor": 5
}
